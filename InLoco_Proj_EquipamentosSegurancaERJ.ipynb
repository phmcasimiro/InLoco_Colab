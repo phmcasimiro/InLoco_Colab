{
  "cells": [
    {
      "cell_type": "markdown",
      "metadata": {
        "id": "view-in-github",
        "colab_type": "text"
      },
      "source": [
        "<a href=\"https://colab.research.google.com/github/phmcasimiro/InLoco_Colab/blob/main/InLoco_Proj_EquipamentosSegurancaERJ.ipynb\" target=\"_parent\"><img src=\"https://colab.research.google.com/assets/colab-badge.svg\" alt=\"Open In Colab\"/></a>"
      ]
    },
    {
      "cell_type": "markdown",
      "metadata": {
        "id": "UP4Ee6iniR4e"
      },
      "source": [
        "# FOLIUM MAP - EQUIPAMENTOS DE SEGURANÇA PÚBLICA DO RIO DE JANEIRO"
      ]
    },
    {
      "cell_type": "markdown",
      "metadata": {
        "id": "K4JMyEoiEvQz"
      },
      "source": [
        "## **1 - Preparação do Virtual Enviromente (VEnv)**\n",
        "### **1.1 -Preparar o ambiente do COLAB para rodar as bibliotecas e pacotes**"
      ]
    },
    {
      "cell_type": "code",
      "execution_count": 1,
      "metadata": {
        "colab": {
          "base_uri": "https://localhost:8080/"
        },
        "id": "ozAopYSyMKqV",
        "outputId": "a8b45dc0-e4df-43a9-9383-1f4caf118d56"
      },
      "outputs": [
        {
          "output_type": "stream",
          "name": "stdout",
          "text": [
            "Get:1 http://security.ubuntu.com/ubuntu focal-security InRelease [114 kB]\n",
            "Get:2 https://cloud.r-project.org/bin/linux/ubuntu focal-cran40/ InRelease [3,622 B]\n",
            "Hit:3 https://developer.download.nvidia.com/compute/cuda/repos/ubuntu2004/x86_64  InRelease\n",
            "Get:4 http://ppa.launchpad.net/c2d4u.team/c2d4u4.0+/ubuntu focal InRelease [18.1 kB]\n",
            "Hit:5 http://archive.ubuntu.com/ubuntu focal InRelease\n",
            "Get:6 http://archive.ubuntu.com/ubuntu focal-updates InRelease [114 kB]\n",
            "Hit:7 http://ppa.launchpad.net/cran/libgit2/ubuntu focal InRelease\n",
            "Get:8 http://security.ubuntu.com/ubuntu focal-security/main amd64 Packages [2,545 kB]\n",
            "Hit:9 http://ppa.launchpad.net/deadsnakes/ppa/ubuntu focal InRelease\n",
            "Get:10 http://archive.ubuntu.com/ubuntu focal-backports InRelease [108 kB]\n",
            "Hit:11 http://ppa.launchpad.net/graphics-drivers/ppa/ubuntu focal InRelease\n",
            "Hit:12 http://ppa.launchpad.net/ubuntugis/ppa/ubuntu focal InRelease\n",
            "Get:13 http://ppa.launchpad.net/c2d4u.team/c2d4u4.0+/ubuntu focal/main Sources [2,403 kB]\n",
            "Get:14 http://archive.ubuntu.com/ubuntu focal-updates/main amd64 Packages [3,026 kB]\n",
            "Get:15 http://ppa.launchpad.net/c2d4u.team/c2d4u4.0+/ubuntu focal/main amd64 Packages [1,138 kB]\n",
            "Fetched 9,470 kB in 3s (2,971 kB/s)\n",
            "Reading package lists...\n",
            "Building dependency tree...\n",
            "Reading state information...\n",
            "24 packages can be upgraded. Run 'apt list --upgradable' to see them.\n",
            "Reading package lists...\n",
            "Building dependency tree...\n",
            "Reading state information...\n",
            "Calculating upgrade...\n",
            "The following packages have been kept back:\n",
            "  libcudnn8 libcudnn8-dev libnccl-dev libnccl2\n",
            "The following packages will be upgraded:\n",
            "  base-files cuda-toolkit-config-common libasn1-8-heimdal libgnutls30\n",
            "  libgssapi3-heimdal libhcrypto4-heimdal libheimbase1-heimdal\n",
            "  libheimntlm0-heimdal libhx509-5-heimdal libkrb5-26-heimdal libpam-modules\n",
            "  libpam-modules-bin libpam-runtime libpam0g libroken18-heimdal libunwind8\n",
            "  libwind0-heimdal linux-libc-dev openssl tar\n",
            "20 upgraded, 0 newly installed, 0 to remove and 4 not upgraded.\n",
            "Need to get 4,151 kB of archives.\n",
            "After this operation, 35.8 kB of additional disk space will be used.\n",
            "Get:1 https://developer.download.nvidia.com/compute/cuda/repos/ubuntu2004/x86_64  cuda-toolkit-config-common 12.1.55-1 [16.4 kB]\n",
            "Get:2 http://archive.ubuntu.com/ubuntu focal-updates/main amd64 base-files amd64 11ubuntu5.7 [60.4 kB]\n",
            "Get:3 http://archive.ubuntu.com/ubuntu focal-updates/main amd64 tar amd64 1.30+dfsg-7ubuntu0.20.04.3 [240 kB]\n",
            "Get:4 http://archive.ubuntu.com/ubuntu focal-updates/main amd64 libpam0g amd64 1.3.1-5ubuntu4.6 [55.3 kB]\n",
            "Get:5 http://archive.ubuntu.com/ubuntu focal-updates/main amd64 libpam-modules-bin amd64 1.3.1-5ubuntu4.6 [41.2 kB]\n",
            "Get:6 http://archive.ubuntu.com/ubuntu focal-updates/main amd64 libpam-modules amd64 1.3.1-5ubuntu4.6 [260 kB]\n",
            "Get:7 http://archive.ubuntu.com/ubuntu focal-updates/main amd64 libpam-runtime all 1.3.1-5ubuntu4.6 [37.3 kB]\n",
            "Get:8 http://archive.ubuntu.com/ubuntu focal-updates/main amd64 libgnutls30 amd64 3.6.13-2ubuntu1.8 [829 kB]\n",
            "Get:9 http://archive.ubuntu.com/ubuntu focal-updates/main amd64 openssl amd64 1.1.1f-1ubuntu2.17 [622 kB]\n",
            "Get:10 http://archive.ubuntu.com/ubuntu focal-updates/main amd64 libroken18-heimdal amd64 7.7.0+dfsg-1ubuntu1.4 [42.5 kB]\n",
            "Get:11 http://archive.ubuntu.com/ubuntu focal-updates/main amd64 libasn1-8-heimdal amd64 7.7.0+dfsg-1ubuntu1.4 [181 kB]\n",
            "Get:12 http://archive.ubuntu.com/ubuntu focal-updates/main amd64 libheimbase1-heimdal amd64 7.7.0+dfsg-1ubuntu1.4 [30.4 kB]\n",
            "Get:13 http://archive.ubuntu.com/ubuntu focal-updates/main amd64 libhcrypto4-heimdal amd64 7.7.0+dfsg-1ubuntu1.4 [88.1 kB]\n",
            "Get:14 http://archive.ubuntu.com/ubuntu focal-updates/main amd64 libwind0-heimdal amd64 7.7.0+dfsg-1ubuntu1.4 [47.7 kB]\n",
            "Get:15 http://archive.ubuntu.com/ubuntu focal-updates/main amd64 libhx509-5-heimdal amd64 7.7.0+dfsg-1ubuntu1.4 [107 kB]\n",
            "Get:16 http://archive.ubuntu.com/ubuntu focal-updates/main amd64 libkrb5-26-heimdal amd64 7.7.0+dfsg-1ubuntu1.4 [207 kB]\n",
            "Get:17 http://archive.ubuntu.com/ubuntu focal-updates/main amd64 libheimntlm0-heimdal amd64 7.7.0+dfsg-1ubuntu1.4 [15.1 kB]\n",
            "Get:18 http://archive.ubuntu.com/ubuntu focal-updates/main amd64 libgssapi3-heimdal amd64 7.7.0+dfsg-1ubuntu1.4 [96.5 kB]\n",
            "Get:19 http://archive.ubuntu.com/ubuntu focal-updates/main amd64 libunwind8 amd64 1.2.1-9ubuntu0.1 [47.7 kB]\n",
            "Get:20 http://archive.ubuntu.com/ubuntu focal-updates/main amd64 linux-libc-dev amd64 5.4.0-144.161 [1,127 kB]\n",
            "Fetched 4,151 kB in 2s (2,397 kB/s)\n",
            "Preconfiguring packages ...\n",
            "(Reading database ... 128285 files and directories currently installed.)\n",
            "Preparing to unpack .../base-files_11ubuntu5.7_amd64.deb ...\n",
            "Unpacking base-files (11ubuntu5.7) over (11ubuntu5.6) ...\n",
            "Setting up base-files (11ubuntu5.7) ...\n",
            "Installing new version of config file /etc/issue ...\n",
            "Installing new version of config file /etc/issue.net ...\n",
            "Installing new version of config file /etc/lsb-release ...\n",
            "(Reading database ... 128285 files and directories currently installed.)\n",
            "Preparing to unpack .../tar_1.30+dfsg-7ubuntu0.20.04.3_amd64.deb ...\n",
            "Unpacking tar (1.30+dfsg-7ubuntu0.20.04.3) over (1.30+dfsg-7ubuntu0.20.04.2) ...\n",
            "Setting up tar (1.30+dfsg-7ubuntu0.20.04.3) ...\n",
            "update-alternatives: warning: forcing reinstallation of alternative /usr/sbin/rmt-tar because link group rmt is broken\n",
            "(Reading database ... 128285 files and directories currently installed.)\n",
            "Preparing to unpack .../libpam0g_1.3.1-5ubuntu4.6_amd64.deb ...\n",
            "Unpacking libpam0g:amd64 (1.3.1-5ubuntu4.6) over (1.3.1-5ubuntu4.4) ...\n",
            "Setting up libpam0g:amd64 (1.3.1-5ubuntu4.6) ...\n",
            "(Reading database ... 128285 files and directories currently installed.)\n",
            "Preparing to unpack .../libpam-modules-bin_1.3.1-5ubuntu4.6_amd64.deb ...\n",
            "Unpacking libpam-modules-bin (1.3.1-5ubuntu4.6) over (1.3.1-5ubuntu4.4) ...\n",
            "Setting up libpam-modules-bin (1.3.1-5ubuntu4.6) ...\n",
            "(Reading database ... 128285 files and directories currently installed.)\n",
            "Preparing to unpack .../libpam-modules_1.3.1-5ubuntu4.6_amd64.deb ...\n",
            "Unpacking libpam-modules:amd64 (1.3.1-5ubuntu4.6) over (1.3.1-5ubuntu4.4) ...\n",
            "Setting up libpam-modules:amd64 (1.3.1-5ubuntu4.6) ...\n",
            "(Reading database ... 128285 files and directories currently installed.)\n",
            "Preparing to unpack .../libpam-runtime_1.3.1-5ubuntu4.6_all.deb ...\n",
            "Unpacking libpam-runtime (1.3.1-5ubuntu4.6) over (1.3.1-5ubuntu4.4) ...\n",
            "Setting up libpam-runtime (1.3.1-5ubuntu4.6) ...\n",
            "(Reading database ... 128285 files and directories currently installed.)\n",
            "Preparing to unpack .../libgnutls30_3.6.13-2ubuntu1.8_amd64.deb ...\n",
            "Unpacking libgnutls30:amd64 (3.6.13-2ubuntu1.8) over (3.6.13-2ubuntu1.7) ...\n",
            "Setting up libgnutls30:amd64 (3.6.13-2ubuntu1.8) ...\n",
            "(Reading database ... 128285 files and directories currently installed.)\n",
            "Preparing to unpack .../00-openssl_1.1.1f-1ubuntu2.17_amd64.deb ...\n",
            "Unpacking openssl (1.1.1f-1ubuntu2.17) over (1.1.1f-1ubuntu2.16) ...\n",
            "Preparing to unpack .../01-cuda-toolkit-config-common_12.1.55-1_all.deb ...\n",
            "Unpacking cuda-toolkit-config-common (12.1.55-1) over (12.0.146-1) ...\n",
            "Preparing to unpack .../02-libroken18-heimdal_7.7.0+dfsg-1ubuntu1.4_amd64.deb ...\n",
            "Unpacking libroken18-heimdal:amd64 (7.7.0+dfsg-1ubuntu1.4) over (7.7.0+dfsg-1ubuntu1.3) ...\n",
            "Preparing to unpack .../03-libasn1-8-heimdal_7.7.0+dfsg-1ubuntu1.4_amd64.deb ...\n",
            "Unpacking libasn1-8-heimdal:amd64 (7.7.0+dfsg-1ubuntu1.4) over (7.7.0+dfsg-1ubuntu1.3) ...\n",
            "Preparing to unpack .../04-libheimbase1-heimdal_7.7.0+dfsg-1ubuntu1.4_amd64.deb ...\n",
            "Unpacking libheimbase1-heimdal:amd64 (7.7.0+dfsg-1ubuntu1.4) over (7.7.0+dfsg-1ubuntu1.3) ...\n",
            "Preparing to unpack .../05-libhcrypto4-heimdal_7.7.0+dfsg-1ubuntu1.4_amd64.deb ...\n",
            "Unpacking libhcrypto4-heimdal:amd64 (7.7.0+dfsg-1ubuntu1.4) over (7.7.0+dfsg-1ubuntu1.3) ...\n",
            "Preparing to unpack .../06-libwind0-heimdal_7.7.0+dfsg-1ubuntu1.4_amd64.deb ...\n",
            "Unpacking libwind0-heimdal:amd64 (7.7.0+dfsg-1ubuntu1.4) over (7.7.0+dfsg-1ubuntu1.3) ...\n",
            "Preparing to unpack .../07-libhx509-5-heimdal_7.7.0+dfsg-1ubuntu1.4_amd64.deb ...\n",
            "Unpacking libhx509-5-heimdal:amd64 (7.7.0+dfsg-1ubuntu1.4) over (7.7.0+dfsg-1ubuntu1.3) ...\n",
            "Preparing to unpack .../08-libkrb5-26-heimdal_7.7.0+dfsg-1ubuntu1.4_amd64.deb ...\n",
            "Unpacking libkrb5-26-heimdal:amd64 (7.7.0+dfsg-1ubuntu1.4) over (7.7.0+dfsg-1ubuntu1.3) ...\n",
            "Preparing to unpack .../09-libheimntlm0-heimdal_7.7.0+dfsg-1ubuntu1.4_amd64.deb ...\n",
            "Unpacking libheimntlm0-heimdal:amd64 (7.7.0+dfsg-1ubuntu1.4) over (7.7.0+dfsg-1ubuntu1.3) ...\n",
            "Preparing to unpack .../10-libgssapi3-heimdal_7.7.0+dfsg-1ubuntu1.4_amd64.deb ...\n",
            "Unpacking libgssapi3-heimdal:amd64 (7.7.0+dfsg-1ubuntu1.4) over (7.7.0+dfsg-1ubuntu1.3) ...\n",
            "Preparing to unpack .../11-libunwind8_1.2.1-9ubuntu0.1_amd64.deb ...\n",
            "Unpacking libunwind8:amd64 (1.2.1-9ubuntu0.1) over (1.2.1-9build1) ...\n",
            "Preparing to unpack .../12-linux-libc-dev_5.4.0-144.161_amd64.deb ...\n",
            "Unpacking linux-libc-dev:amd64 (5.4.0-144.161) over (5.4.0-137.154) ...\n",
            "Setting up cuda-toolkit-config-common (12.1.55-1) ...\n",
            "Setting up linux-libc-dev:amd64 (5.4.0-144.161) ...\n",
            "Setting up libunwind8:amd64 (1.2.1-9ubuntu0.1) ...\n",
            "Setting up libroken18-heimdal:amd64 (7.7.0+dfsg-1ubuntu1.4) ...\n",
            "Setting up openssl (1.1.1f-1ubuntu2.17) ...\n",
            "Setting up libheimbase1-heimdal:amd64 (7.7.0+dfsg-1ubuntu1.4) ...\n",
            "Setting up libasn1-8-heimdal:amd64 (7.7.0+dfsg-1ubuntu1.4) ...\n",
            "Setting up libhcrypto4-heimdal:amd64 (7.7.0+dfsg-1ubuntu1.4) ...\n",
            "Setting up libwind0-heimdal:amd64 (7.7.0+dfsg-1ubuntu1.4) ...\n",
            "Setting up libhx509-5-heimdal:amd64 (7.7.0+dfsg-1ubuntu1.4) ...\n",
            "Setting up libkrb5-26-heimdal:amd64 (7.7.0+dfsg-1ubuntu1.4) ...\n",
            "Setting up libheimntlm0-heimdal:amd64 (7.7.0+dfsg-1ubuntu1.4) ...\n",
            "Setting up libgssapi3-heimdal:amd64 (7.7.0+dfsg-1ubuntu1.4) ...\n",
            "Processing triggers for libc-bin (2.31-0ubuntu9.9) ...\n",
            "Processing triggers for man-db (2.9.1-1) ...\n",
            "Processing triggers for mime-support (3.64ubuntu1) ...\n"
          ]
        }
      ],
      "source": [
        "# Atualizar as bibliotecas: Listar todos os pacotes instalados e quais possuem atualização\n",
        "!apt update -q\n",
        "\n",
        "# Atualizar as versões de pacotes instalados: Atualizar os pacotes listados acima para suas últimas versões\n",
        "!apt upgrade -q\n",
        "\n",
        "# Instalar a bibliteca OSM\n",
        "#!pip install osmnx -q"
      ]
    },
    {
      "cell_type": "code",
      "execution_count": 2,
      "metadata": {
        "id": "7YmLoxIkDqyX",
        "colab": {
          "base_uri": "https://localhost:8080/"
        },
        "outputId": "9c53648d-2cca-4347-b07a-5a85f376a445"
      },
      "outputs": [
        {
          "output_type": "stream",
          "name": "stdout",
          "text": [
            "  Preparing metadata (setup.py) ... \u001b[?25l\u001b[?25hdone\n",
            "  Building wheel for mplleaflet (setup.py) ... \u001b[?25l\u001b[?25hdone\n",
            "\u001b[2K     \u001b[90m━━━━━━━━━━━━━━━━━━━━━━━━━━━━━━━━━━━━━━━━\u001b[0m \u001b[32m1.1/1.1 MB\u001b[0m \u001b[31m40.5 MB/s\u001b[0m eta \u001b[36m0:00:00\u001b[0m\n",
            "\u001b[2K     \u001b[90m━━━━━━━━━━━━━━━━━━━━━━━━━━━━━━━━━━━━━━━━\u001b[0m \u001b[32m7.7/7.7 MB\u001b[0m \u001b[31m91.8 MB/s\u001b[0m eta \u001b[36m0:00:00\u001b[0m\n",
            "\u001b[2K     \u001b[90m━━━━━━━━━━━━━━━━━━━━━━━━━━━━━━━━━━━━━━━━\u001b[0m \u001b[32m16.1/16.1 MB\u001b[0m \u001b[31m74.5 MB/s\u001b[0m eta \u001b[36m0:00:00\u001b[0m\n",
            "\u001b[?25h"
          ]
        }
      ],
      "source": [
        "# Instalar pacotes e versões porque necessários para resolver problemas de incompatibilidade entre bibliotecas\n",
        "!pip install requests -q\n",
        "!pip install folium -q\n",
        "!pip install imgaug -q\n",
        "!pip install mplleaflet -q\n",
        "!pip install geopandas -q\n",
        "!pip install matplotlib -q\n",
        "!pip install fiona -q"
      ]
    },
    {
      "cell_type": "markdown",
      "metadata": {
        "id": "sWjH5HhOrB6s"
      },
      "source": [
        "### **1.2 - Importar as bibliotecas que serão utilizadas**"
      ]
    },
    {
      "cell_type": "code",
      "execution_count": 3,
      "metadata": {
        "id": "dkye5R8_0hEq"
      },
      "outputs": [],
      "source": [
        "# Importar bibliotecas\n",
        "#import osmnx as ox\n",
        "import folium\n",
        "from folium import plugins\n",
        "import pandas as pd\n",
        "import geopandas as gpd"
      ]
    },
    {
      "cell_type": "markdown",
      "metadata": {
        "id": "e7GhXY7PE-N-"
      },
      "source": [
        "### **1.3 - Preparar acesso ao GDrive**"
      ]
    },
    {
      "cell_type": "code",
      "execution_count": 4,
      "metadata": {
        "colab": {
          "base_uri": "https://localhost:8080/"
        },
        "id": "DPwR1tTyXB9X",
        "outputId": "16c69ebe-218f-4844-d25b-7b8246a5b311"
      },
      "outputs": [
        {
          "output_type": "stream",
          "name": "stdout",
          "text": [
            "Drive already mounted at /content/drive; to attempt to forcibly remount, call drive.mount(\"/content/drive\", force_remount=True).\n"
          ]
        }
      ],
      "source": [
        "from google.colab import drive\n",
        "drive.mount('/content/drive')"
      ]
    },
    {
      "cell_type": "markdown",
      "source": [
        "### **2 - Preparar Dados e Informações para o Mapa**\n",
        "\n",
        "\n",
        "*   Entradas como .shp;\n",
        "*   Entradas como .gjson;\n",
        "*   Criar os GDFs;\n",
        "*   Verificar/Transformar os CRSs;\n",
        "*   Verificar os registros iniciais dos GDFs;\n",
        "*   Listar as colunas dos GDFs\n",
        "*   Listar os valores únicos do atributo que será utilizado na classificação do mapa;\n",
        "\n"
      ],
      "metadata": {
        "id": "ACv5G-zbGHSv"
      }
    },
    {
      "cell_type": "code",
      "execution_count": 5,
      "metadata": {
        "id": "dr2044E0E9qQ"
      },
      "outputs": [],
      "source": [
        "# Definir variáveis que receberão os arquivos que usaremos no projeto\n",
        "aisp_shp = '/content/drive/MyDrive/11_PROJETOS/FogoCruzado_RMRJ/gisdb_seguranca_gt_seg_aisp.shp'\n",
        "cisp_shp = '/content/drive/MyDrive/11_PROJETOS/FogoCruzado_RMRJ/gisdb_seguranca_gt_seg_cisp.shp'\n",
        "aisp_json = '/content/drive/MyDrive/11_PROJETOS/FogoCruzado_RMRJ/aisp_erj.geojson'\n",
        "cisp_json = '/content/drive/MyDrive/11_PROJETOS/FogoCruzado_RMRJ/cisp_erj.geojson'\n",
        "bpm_shp = '/content/drive/MyDrive/11_PROJETOS/FogoCruzado_RMRJ/gt_seg_batalhoes_pmerj.shp'\n",
        "delegacias_shp = '/content/drive/MyDrive/11_PROJETOS/FogoCruzado_RMRJ/gt_seg_delegacias_pcerj.shp'"
      ]
    },
    {
      "cell_type": "code",
      "execution_count": 6,
      "metadata": {
        "id": "lhc_xq-RltJ6"
      },
      "outputs": [],
      "source": [
        "# Importar variáveis/arquivos de entrada para objetos GeoDataFrame utilizando a biblioteca GeoPandas \n",
        "gdf_bpm = gpd.read_file(bpm_shp)\n",
        "gdf_delegacias = gpd.read_file(delegacias_shp)\n",
        "gdf_aisp = gpd.read_file(aisp_shp)\n",
        "gdf_cisp = gpd.read_file(cisp_shp)"
      ]
    },
    {
      "cell_type": "code",
      "source": [
        "# Verificar os CRS\n",
        "print(gdf_bpm.crs)\n",
        "# Verificar o CRS\n",
        "print(gdf_delegacias.crs)"
      ],
      "metadata": {
        "colab": {
          "base_uri": "https://localhost:8080/"
        },
        "id": "Ud8lcEYeSq3d",
        "outputId": "893b0a49-289c-4023-c81b-5482cb880eaf"
      },
      "execution_count": 7,
      "outputs": [
        {
          "output_type": "stream",
          "name": "stdout",
          "text": [
            "EPSG:4326\n",
            "EPSG:4326\n"
          ]
        }
      ]
    },
    {
      "cell_type": "code",
      "source": [
        "# Exibir os registros iniciais do GeoDataFrame\n",
        "gdf_bpm.head()"
      ],
      "metadata": {
        "colab": {
          "base_uri": "https://localhost:8080/",
          "height": 337
        },
        "id": "CqWuChPgCCJ8",
        "outputId": "70465901-7213-4d11-e028-2e5ae71246ae"
      },
      "execution_count": 8,
      "outputs": [
        {
          "output_type": "execute_result",
          "data": {
            "text/plain": [
              "                     unidade  \\\n",
              "0          2º BPM - Botafogo   \n",
              "1            PPM - Cascadura   \n",
              "2            8º BPM - Campos   \n",
              "3  15º BPM - Duque de Caxias   \n",
              "4   PPM - São João de Meriti   \n",
              "\n",
              "                                            endereco              municipio  \\\n",
              "0  R. Álvaro Ramos, 135 - Botafogo, Rio de Janeir...         Rio de Janeiro   \n",
              "1  Av. Dom Hélder Câmara, 10199 - Cascadura, Rio ...         Rio de Janeiro   \n",
              "2  Rua Ten Cel Cardoso s/nº - Campos dos Goytacaz...  Campos dos Goytacazes   \n",
              "3  Rua Pedro Corrêa nº 273 – Duque de Caxias - Ce...        Duque de Caxias   \n",
              "4  Av. Automóvel Clube, S/N - Vilar dos Teles, Sã...     São João de Meriti   \n",
              "\n",
              "                    telefone                                telefone_2  \\\n",
              "0   Oficial de Dia 2332-1358                                       NaN   \n",
              "1                        NaN                                       NaN   \n",
              "2  Oficial de Dia: 2731-0614  Sala de Operações: 2726-4503 / 2738-0809   \n",
              "3   Oficial de Dia 3777-7961               Sala de Operações 3777-7286   \n",
              "4                        NaN                                       NaN   \n",
              "\n",
              "                             e_mail  aisp     area_km2  \\\n",
              "0                               NaN     0    15.024819   \n",
              "1                               NaN     9    33.647731   \n",
              "2   secretario_8bpm@pmerj.rj.gov.br     8  6635.740494   \n",
              "3  secretario_15bpm@pmerj.rj.gov.br    15   467.641196   \n",
              "4                               NaN    21    35.219135   \n",
              "\n",
              "                                 globalid created_us  created_da last_edite  \\\n",
              "0  {B82A516E-720D-437D-AF4A-F48404678796}  SEGURANCA  2022-12-28  SEGURANCA   \n",
              "1  {20016BA3-6552-4013-8556-4F4D2B39D2BF}        NaN         NaN        NaN   \n",
              "2  {1BA9D17E-88A8-4606-B6ED-98B8F4B618A5}        NaN         NaN        NaN   \n",
              "3  {3F4F386E-F3D1-4918-9F8F-FAE5C74A01E0}        NaN         NaN        NaN   \n",
              "4  {6F22237D-697D-47AF-BA28-7DFD5C8EB42C}        NaN         NaN        NaN   \n",
              "\n",
              "   last_edi_1                     geometry  \n",
              "0  2022-12-28  POINT (-43.18150 -22.95644)  \n",
              "1         NaN  POINT (-43.32560 -22.88224)  \n",
              "2         NaN  POINT (-41.31730 -21.76109)  \n",
              "3         NaN  POINT (-43.30980 -22.78110)  \n",
              "4         NaN  POINT (-43.36442 -22.78667)  "
            ],
            "text/html": [
              "\n",
              "  <div id=\"df-5cd38e0f-3570-42b1-bbc6-c889b096be3a\">\n",
              "    <div class=\"colab-df-container\">\n",
              "      <div>\n",
              "<style scoped>\n",
              "    .dataframe tbody tr th:only-of-type {\n",
              "        vertical-align: middle;\n",
              "    }\n",
              "\n",
              "    .dataframe tbody tr th {\n",
              "        vertical-align: top;\n",
              "    }\n",
              "\n",
              "    .dataframe thead th {\n",
              "        text-align: right;\n",
              "    }\n",
              "</style>\n",
              "<table border=\"1\" class=\"dataframe\">\n",
              "  <thead>\n",
              "    <tr style=\"text-align: right;\">\n",
              "      <th></th>\n",
              "      <th>unidade</th>\n",
              "      <th>endereco</th>\n",
              "      <th>municipio</th>\n",
              "      <th>telefone</th>\n",
              "      <th>telefone_2</th>\n",
              "      <th>e_mail</th>\n",
              "      <th>aisp</th>\n",
              "      <th>area_km2</th>\n",
              "      <th>globalid</th>\n",
              "      <th>created_us</th>\n",
              "      <th>created_da</th>\n",
              "      <th>last_edite</th>\n",
              "      <th>last_edi_1</th>\n",
              "      <th>geometry</th>\n",
              "    </tr>\n",
              "  </thead>\n",
              "  <tbody>\n",
              "    <tr>\n",
              "      <th>0</th>\n",
              "      <td>2º BPM - Botafogo</td>\n",
              "      <td>R. Álvaro Ramos, 135 - Botafogo, Rio de Janeir...</td>\n",
              "      <td>Rio de Janeiro</td>\n",
              "      <td>Oficial de Dia 2332-1358</td>\n",
              "      <td>NaN</td>\n",
              "      <td>NaN</td>\n",
              "      <td>0</td>\n",
              "      <td>15.024819</td>\n",
              "      <td>{B82A516E-720D-437D-AF4A-F48404678796}</td>\n",
              "      <td>SEGURANCA</td>\n",
              "      <td>2022-12-28</td>\n",
              "      <td>SEGURANCA</td>\n",
              "      <td>2022-12-28</td>\n",
              "      <td>POINT (-43.18150 -22.95644)</td>\n",
              "    </tr>\n",
              "    <tr>\n",
              "      <th>1</th>\n",
              "      <td>PPM - Cascadura</td>\n",
              "      <td>Av. Dom Hélder Câmara, 10199 - Cascadura, Rio ...</td>\n",
              "      <td>Rio de Janeiro</td>\n",
              "      <td>NaN</td>\n",
              "      <td>NaN</td>\n",
              "      <td>NaN</td>\n",
              "      <td>9</td>\n",
              "      <td>33.647731</td>\n",
              "      <td>{20016BA3-6552-4013-8556-4F4D2B39D2BF}</td>\n",
              "      <td>NaN</td>\n",
              "      <td>NaN</td>\n",
              "      <td>NaN</td>\n",
              "      <td>NaN</td>\n",
              "      <td>POINT (-43.32560 -22.88224)</td>\n",
              "    </tr>\n",
              "    <tr>\n",
              "      <th>2</th>\n",
              "      <td>8º BPM - Campos</td>\n",
              "      <td>Rua Ten Cel Cardoso s/nº - Campos dos Goytacaz...</td>\n",
              "      <td>Campos dos Goytacazes</td>\n",
              "      <td>Oficial de Dia: 2731-0614</td>\n",
              "      <td>Sala de Operações: 2726-4503 / 2738-0809</td>\n",
              "      <td>secretario_8bpm@pmerj.rj.gov.br</td>\n",
              "      <td>8</td>\n",
              "      <td>6635.740494</td>\n",
              "      <td>{1BA9D17E-88A8-4606-B6ED-98B8F4B618A5}</td>\n",
              "      <td>NaN</td>\n",
              "      <td>NaN</td>\n",
              "      <td>NaN</td>\n",
              "      <td>NaN</td>\n",
              "      <td>POINT (-41.31730 -21.76109)</td>\n",
              "    </tr>\n",
              "    <tr>\n",
              "      <th>3</th>\n",
              "      <td>15º BPM - Duque de Caxias</td>\n",
              "      <td>Rua Pedro Corrêa nº 273 – Duque de Caxias - Ce...</td>\n",
              "      <td>Duque de Caxias</td>\n",
              "      <td>Oficial de Dia 3777-7961</td>\n",
              "      <td>Sala de Operações 3777-7286</td>\n",
              "      <td>secretario_15bpm@pmerj.rj.gov.br</td>\n",
              "      <td>15</td>\n",
              "      <td>467.641196</td>\n",
              "      <td>{3F4F386E-F3D1-4918-9F8F-FAE5C74A01E0}</td>\n",
              "      <td>NaN</td>\n",
              "      <td>NaN</td>\n",
              "      <td>NaN</td>\n",
              "      <td>NaN</td>\n",
              "      <td>POINT (-43.30980 -22.78110)</td>\n",
              "    </tr>\n",
              "    <tr>\n",
              "      <th>4</th>\n",
              "      <td>PPM - São João de Meriti</td>\n",
              "      <td>Av. Automóvel Clube, S/N - Vilar dos Teles, Sã...</td>\n",
              "      <td>São João de Meriti</td>\n",
              "      <td>NaN</td>\n",
              "      <td>NaN</td>\n",
              "      <td>NaN</td>\n",
              "      <td>21</td>\n",
              "      <td>35.219135</td>\n",
              "      <td>{6F22237D-697D-47AF-BA28-7DFD5C8EB42C}</td>\n",
              "      <td>NaN</td>\n",
              "      <td>NaN</td>\n",
              "      <td>NaN</td>\n",
              "      <td>NaN</td>\n",
              "      <td>POINT (-43.36442 -22.78667)</td>\n",
              "    </tr>\n",
              "  </tbody>\n",
              "</table>\n",
              "</div>\n",
              "      <button class=\"colab-df-convert\" onclick=\"convertToInteractive('df-5cd38e0f-3570-42b1-bbc6-c889b096be3a')\"\n",
              "              title=\"Convert this dataframe to an interactive table.\"\n",
              "              style=\"display:none;\">\n",
              "        \n",
              "  <svg xmlns=\"http://www.w3.org/2000/svg\" height=\"24px\"viewBox=\"0 0 24 24\"\n",
              "       width=\"24px\">\n",
              "    <path d=\"M0 0h24v24H0V0z\" fill=\"none\"/>\n",
              "    <path d=\"M18.56 5.44l.94 2.06.94-2.06 2.06-.94-2.06-.94-.94-2.06-.94 2.06-2.06.94zm-11 1L8.5 8.5l.94-2.06 2.06-.94-2.06-.94L8.5 2.5l-.94 2.06-2.06.94zm10 10l.94 2.06.94-2.06 2.06-.94-2.06-.94-.94-2.06-.94 2.06-2.06.94z\"/><path d=\"M17.41 7.96l-1.37-1.37c-.4-.4-.92-.59-1.43-.59-.52 0-1.04.2-1.43.59L10.3 9.45l-7.72 7.72c-.78.78-.78 2.05 0 2.83L4 21.41c.39.39.9.59 1.41.59.51 0 1.02-.2 1.41-.59l7.78-7.78 2.81-2.81c.8-.78.8-2.07 0-2.86zM5.41 20L4 18.59l7.72-7.72 1.47 1.35L5.41 20z\"/>\n",
              "  </svg>\n",
              "      </button>\n",
              "      \n",
              "  <style>\n",
              "    .colab-df-container {\n",
              "      display:flex;\n",
              "      flex-wrap:wrap;\n",
              "      gap: 12px;\n",
              "    }\n",
              "\n",
              "    .colab-df-convert {\n",
              "      background-color: #E8F0FE;\n",
              "      border: none;\n",
              "      border-radius: 50%;\n",
              "      cursor: pointer;\n",
              "      display: none;\n",
              "      fill: #1967D2;\n",
              "      height: 32px;\n",
              "      padding: 0 0 0 0;\n",
              "      width: 32px;\n",
              "    }\n",
              "\n",
              "    .colab-df-convert:hover {\n",
              "      background-color: #E2EBFA;\n",
              "      box-shadow: 0px 1px 2px rgba(60, 64, 67, 0.3), 0px 1px 3px 1px rgba(60, 64, 67, 0.15);\n",
              "      fill: #174EA6;\n",
              "    }\n",
              "\n",
              "    [theme=dark] .colab-df-convert {\n",
              "      background-color: #3B4455;\n",
              "      fill: #D2E3FC;\n",
              "    }\n",
              "\n",
              "    [theme=dark] .colab-df-convert:hover {\n",
              "      background-color: #434B5C;\n",
              "      box-shadow: 0px 1px 3px 1px rgba(0, 0, 0, 0.15);\n",
              "      filter: drop-shadow(0px 1px 2px rgba(0, 0, 0, 0.3));\n",
              "      fill: #FFFFFF;\n",
              "    }\n",
              "  </style>\n",
              "\n",
              "      <script>\n",
              "        const buttonEl =\n",
              "          document.querySelector('#df-5cd38e0f-3570-42b1-bbc6-c889b096be3a button.colab-df-convert');\n",
              "        buttonEl.style.display =\n",
              "          google.colab.kernel.accessAllowed ? 'block' : 'none';\n",
              "\n",
              "        async function convertToInteractive(key) {\n",
              "          const element = document.querySelector('#df-5cd38e0f-3570-42b1-bbc6-c889b096be3a');\n",
              "          const dataTable =\n",
              "            await google.colab.kernel.invokeFunction('convertToInteractive',\n",
              "                                                     [key], {});\n",
              "          if (!dataTable) return;\n",
              "\n",
              "          const docLinkHtml = 'Like what you see? Visit the ' +\n",
              "            '<a target=\"_blank\" href=https://colab.research.google.com/notebooks/data_table.ipynb>data table notebook</a>'\n",
              "            + ' to learn more about interactive tables.';\n",
              "          element.innerHTML = '';\n",
              "          dataTable['output_type'] = 'display_data';\n",
              "          await google.colab.output.renderOutput(dataTable, element);\n",
              "          const docLink = document.createElement('div');\n",
              "          docLink.innerHTML = docLinkHtml;\n",
              "          element.appendChild(docLink);\n",
              "        }\n",
              "      </script>\n",
              "    </div>\n",
              "  </div>\n",
              "  "
            ]
          },
          "metadata": {},
          "execution_count": 8
        }
      ]
    },
    {
      "cell_type": "code",
      "source": [
        "# Verificar as colunas/atributos do GeoDataFrame\n",
        "gdf_bpm.columns"
      ],
      "metadata": {
        "colab": {
          "base_uri": "https://localhost:8080/"
        },
        "id": "LjSTa3htRh_y",
        "outputId": "a59de64b-22e8-459f-d218-2dd4f40552df"
      },
      "execution_count": 20,
      "outputs": [
        {
          "output_type": "execute_result",
          "data": {
            "text/plain": [
              "Index(['unidade', 'endereco', 'municipio', 'telefone', 'telefone_2', 'e_mail',\n",
              "       'aisp', 'area_km2', 'globalid', 'created_us', 'created_da',\n",
              "       'last_edite', 'last_edi_1', 'geometry'],\n",
              "      dtype='object')"
            ]
          },
          "metadata": {},
          "execution_count": 20
        }
      ]
    },
    {
      "cell_type": "code",
      "source": [
        "# Verificar os registros/valores únicos de um atributo/coluna do GeoDataFrame\n",
        "pd.unique(gdf_bpm['municipio'])"
      ],
      "metadata": {
        "id": "qgUN1aT-_YoT",
        "colab": {
          "base_uri": "https://localhost:8080/"
        },
        "outputId": "f8a76c0a-e702-4573-9e82-565db4f6dfaa"
      },
      "execution_count": 9,
      "outputs": [
        {
          "output_type": "execute_result",
          "data": {
            "text/plain": [
              "array(['Rio de Janeiro', 'Campos dos Goytacazes', 'Duque de Caxias',\n",
              "       'São João de Meriti', 'Cabo Frio', 'Barra do Piraí', 'Itaperuna',\n",
              "       'Angra dos Reis', 'Nova Friburgo', 'São Gonçalo', 'Niterói',\n",
              "       'Volta Redonda', 'Magé', 'Teresópolis', 'Resende', 'Mesquita',\n",
              "       'Belford Roxo', 'Três Rios', 'Macaé', 'Santo Antônio de Pádua',\n",
              "       'Petrópolis', 'Queimados', 'Itaboraí'], dtype=object)"
            ]
          },
          "metadata": {},
          "execution_count": 9
        }
      ]
    },
    {
      "cell_type": "code",
      "source": [
        "# Exibir os registros iniciais do GeoDataFrame\n",
        "gdf_delegacias.head()"
      ],
      "metadata": {
        "id": "zAfF9qFZ_Z-w",
        "colab": {
          "base_uri": "https://localhost:8080/",
          "height": 592
        },
        "outputId": "da6f4c3e-8243-45f4-d3cb-baa27a5fb09d"
      },
      "execution_count": 10,
      "outputs": [
        {
          "output_type": "execute_result",
          "data": {
            "text/plain": [
              "   cisp  aisp                                          delegacia  \\\n",
              "0   118    25                                 118ª DP - Araruama   \n",
              "1   118    25  NUAM (Núcleo de Atendimento à Mulher) 118ª DP ...   \n",
              "2   120    35                             120ª DP - Silva Jardim   \n",
              "3     0     0  ICCE - Instituto de Criminalística Carlos Ébol...   \n",
              "4     0     0  DGPAM - Departamento-Geral de Polícia de Atend...   \n",
              "\n",
              "      localidade             categoria  \\\n",
              "0       Interior              Interior   \n",
              "1       Interior  Atendimento à Mulher   \n",
              "2       Interior              Interior   \n",
              "3  Especializada       Polícia Técnica   \n",
              "4        Capital  Atendimento à Mulher   \n",
              "\n",
              "                                            endereco  \\\n",
              "0  Rua Bernardo Vasconcelos, 755 - Centro, Ararua...   \n",
              "1  Rua Bernardo Vasconcelos, 755 - Centro, Ararua...   \n",
              "2  Rua Geraldo Gerônimo da Silva, 634-726 - Regin...   \n",
              "3  Avenida Francisco Bicalho, 250, Santo Cristo, ...   \n",
              "4  Rua da Relação, 42 - 11º andar - Centro, Rio d...   \n",
              "\n",
              "                                          responsave  \\\n",
              "0  Responsável: Delegado de Polícia Filipi Poeys ...   \n",
              "1                                                NaN   \n",
              "2  Responsável: Delegado de Polícia Flavio da Ros...   \n",
              "3            Responsável: Sérgio William Silva Miana   \n",
              "4  Responsável: Delegada de Polícia Sandra Maria ...   \n",
              "\n",
              "                                             contato pip_dk_nov pip_dscr_n  \\\n",
              "0  Telefones: (22) 2665-7886 / 2665-8403 / 2665-7758        NaN        NaN   \n",
              "1  Telefones: (22) 2665-7886 / 2665-8403 / 2665-7758        NaN        NaN   \n",
              "2  Telefones: (22) 2668-0434 / 2668-1891 / 2668-1894        NaN        NaN   \n",
              "3                               Telefones: 2334-8476        NaN        NaN   \n",
              "4                   Telefones: 2334-9749 / 2334-9814        NaN        NaN   \n",
              "\n",
              "   ...                      regiao_erj   latitude  longitude  dt_atualiz  \\\n",
              "0  ...  Região das Baixadas Litorâneas -22.867090 -42.337228  2022-02-22   \n",
              "1  ...  Região das Baixadas Litorâneas -22.867090 -42.337228  2022-02-22   \n",
              "2  ...  Região das Baixadas Litorâneas -22.649132 -42.389491  2022-02-22   \n",
              "3  ...            Região Metropolitana -22.905447 -43.210527  2022-02-22   \n",
              "4  ...            Região Metropolitana -22.910238 -43.184353  2022-02-22   \n",
              "\n",
              "                                 globalid created_us  created_da last_edite  \\\n",
              "0  {82391AAC-E355-42EA-952C-E4A36FB61F13}        NaN         NaN        NaN   \n",
              "1  {7DADA734-D716-440E-AB03-D3233E0C9A90}        NaN         NaN        NaN   \n",
              "2  {01DA85F1-725D-40DB-BE6D-1A8D9909BD0F}        NaN         NaN        NaN   \n",
              "3  {BBC85206-6E65-454F-8EB2-E9685001106D}        NaN         NaN        NaN   \n",
              "4  {E546E0ED-6799-4BF3-AA6A-75D73D639DA0}        NaN         NaN        NaN   \n",
              "\n",
              "  last_edi_1                     geometry  \n",
              "0        NaN  POINT (-42.33723 -22.86709)  \n",
              "1        NaN  POINT (-42.33723 -22.86709)  \n",
              "2        NaN  POINT (-42.38949 -22.64913)  \n",
              "3        NaN  POINT (-43.21053 -22.90545)  \n",
              "4        NaN  POINT (-43.18435 -22.91024)  \n",
              "\n",
              "[5 rows x 30 columns]"
            ],
            "text/html": [
              "\n",
              "  <div id=\"df-93f3c981-4aee-4ef8-b238-5d1970d9e343\">\n",
              "    <div class=\"colab-df-container\">\n",
              "      <div>\n",
              "<style scoped>\n",
              "    .dataframe tbody tr th:only-of-type {\n",
              "        vertical-align: middle;\n",
              "    }\n",
              "\n",
              "    .dataframe tbody tr th {\n",
              "        vertical-align: top;\n",
              "    }\n",
              "\n",
              "    .dataframe thead th {\n",
              "        text-align: right;\n",
              "    }\n",
              "</style>\n",
              "<table border=\"1\" class=\"dataframe\">\n",
              "  <thead>\n",
              "    <tr style=\"text-align: right;\">\n",
              "      <th></th>\n",
              "      <th>cisp</th>\n",
              "      <th>aisp</th>\n",
              "      <th>delegacia</th>\n",
              "      <th>localidade</th>\n",
              "      <th>categoria</th>\n",
              "      <th>endereco</th>\n",
              "      <th>responsave</th>\n",
              "      <th>contato</th>\n",
              "      <th>pip_dk_nov</th>\n",
              "      <th>pip_dscr_n</th>\n",
              "      <th>...</th>\n",
              "      <th>regiao_erj</th>\n",
              "      <th>latitude</th>\n",
              "      <th>longitude</th>\n",
              "      <th>dt_atualiz</th>\n",
              "      <th>globalid</th>\n",
              "      <th>created_us</th>\n",
              "      <th>created_da</th>\n",
              "      <th>last_edite</th>\n",
              "      <th>last_edi_1</th>\n",
              "      <th>geometry</th>\n",
              "    </tr>\n",
              "  </thead>\n",
              "  <tbody>\n",
              "    <tr>\n",
              "      <th>0</th>\n",
              "      <td>118</td>\n",
              "      <td>25</td>\n",
              "      <td>118ª DP - Araruama</td>\n",
              "      <td>Interior</td>\n",
              "      <td>Interior</td>\n",
              "      <td>Rua Bernardo Vasconcelos, 755 - Centro, Ararua...</td>\n",
              "      <td>Responsável: Delegado de Polícia Filipi Poeys ...</td>\n",
              "      <td>Telefones: (22) 2665-7886 / 2665-8403 / 2665-7758</td>\n",
              "      <td>NaN</td>\n",
              "      <td>NaN</td>\n",
              "      <td>...</td>\n",
              "      <td>Região das Baixadas Litorâneas</td>\n",
              "      <td>-22.867090</td>\n",
              "      <td>-42.337228</td>\n",
              "      <td>2022-02-22</td>\n",
              "      <td>{82391AAC-E355-42EA-952C-E4A36FB61F13}</td>\n",
              "      <td>NaN</td>\n",
              "      <td>NaN</td>\n",
              "      <td>NaN</td>\n",
              "      <td>NaN</td>\n",
              "      <td>POINT (-42.33723 -22.86709)</td>\n",
              "    </tr>\n",
              "    <tr>\n",
              "      <th>1</th>\n",
              "      <td>118</td>\n",
              "      <td>25</td>\n",
              "      <td>NUAM (Núcleo de Atendimento à Mulher) 118ª DP ...</td>\n",
              "      <td>Interior</td>\n",
              "      <td>Atendimento à Mulher</td>\n",
              "      <td>Rua Bernardo Vasconcelos, 755 - Centro, Ararua...</td>\n",
              "      <td>NaN</td>\n",
              "      <td>Telefones: (22) 2665-7886 / 2665-8403 / 2665-7758</td>\n",
              "      <td>NaN</td>\n",
              "      <td>NaN</td>\n",
              "      <td>...</td>\n",
              "      <td>Região das Baixadas Litorâneas</td>\n",
              "      <td>-22.867090</td>\n",
              "      <td>-42.337228</td>\n",
              "      <td>2022-02-22</td>\n",
              "      <td>{7DADA734-D716-440E-AB03-D3233E0C9A90}</td>\n",
              "      <td>NaN</td>\n",
              "      <td>NaN</td>\n",
              "      <td>NaN</td>\n",
              "      <td>NaN</td>\n",
              "      <td>POINT (-42.33723 -22.86709)</td>\n",
              "    </tr>\n",
              "    <tr>\n",
              "      <th>2</th>\n",
              "      <td>120</td>\n",
              "      <td>35</td>\n",
              "      <td>120ª DP - Silva Jardim</td>\n",
              "      <td>Interior</td>\n",
              "      <td>Interior</td>\n",
              "      <td>Rua Geraldo Gerônimo da Silva, 634-726 - Regin...</td>\n",
              "      <td>Responsável: Delegado de Polícia Flavio da Ros...</td>\n",
              "      <td>Telefones: (22) 2668-0434 / 2668-1891 / 2668-1894</td>\n",
              "      <td>NaN</td>\n",
              "      <td>NaN</td>\n",
              "      <td>...</td>\n",
              "      <td>Região das Baixadas Litorâneas</td>\n",
              "      <td>-22.649132</td>\n",
              "      <td>-42.389491</td>\n",
              "      <td>2022-02-22</td>\n",
              "      <td>{01DA85F1-725D-40DB-BE6D-1A8D9909BD0F}</td>\n",
              "      <td>NaN</td>\n",
              "      <td>NaN</td>\n",
              "      <td>NaN</td>\n",
              "      <td>NaN</td>\n",
              "      <td>POINT (-42.38949 -22.64913)</td>\n",
              "    </tr>\n",
              "    <tr>\n",
              "      <th>3</th>\n",
              "      <td>0</td>\n",
              "      <td>0</td>\n",
              "      <td>ICCE - Instituto de Criminalística Carlos Ébol...</td>\n",
              "      <td>Especializada</td>\n",
              "      <td>Polícia Técnica</td>\n",
              "      <td>Avenida Francisco Bicalho, 250, Santo Cristo, ...</td>\n",
              "      <td>Responsável: Sérgio William Silva Miana</td>\n",
              "      <td>Telefones: 2334-8476</td>\n",
              "      <td>NaN</td>\n",
              "      <td>NaN</td>\n",
              "      <td>...</td>\n",
              "      <td>Região Metropolitana</td>\n",
              "      <td>-22.905447</td>\n",
              "      <td>-43.210527</td>\n",
              "      <td>2022-02-22</td>\n",
              "      <td>{BBC85206-6E65-454F-8EB2-E9685001106D}</td>\n",
              "      <td>NaN</td>\n",
              "      <td>NaN</td>\n",
              "      <td>NaN</td>\n",
              "      <td>NaN</td>\n",
              "      <td>POINT (-43.21053 -22.90545)</td>\n",
              "    </tr>\n",
              "    <tr>\n",
              "      <th>4</th>\n",
              "      <td>0</td>\n",
              "      <td>0</td>\n",
              "      <td>DGPAM - Departamento-Geral de Polícia de Atend...</td>\n",
              "      <td>Capital</td>\n",
              "      <td>Atendimento à Mulher</td>\n",
              "      <td>Rua da Relação, 42 - 11º andar - Centro, Rio d...</td>\n",
              "      <td>Responsável: Delegada de Polícia Sandra Maria ...</td>\n",
              "      <td>Telefones: 2334-9749 / 2334-9814</td>\n",
              "      <td>NaN</td>\n",
              "      <td>NaN</td>\n",
              "      <td>...</td>\n",
              "      <td>Região Metropolitana</td>\n",
              "      <td>-22.910238</td>\n",
              "      <td>-43.184353</td>\n",
              "      <td>2022-02-22</td>\n",
              "      <td>{E546E0ED-6799-4BF3-AA6A-75D73D639DA0}</td>\n",
              "      <td>NaN</td>\n",
              "      <td>NaN</td>\n",
              "      <td>NaN</td>\n",
              "      <td>NaN</td>\n",
              "      <td>POINT (-43.18435 -22.91024)</td>\n",
              "    </tr>\n",
              "  </tbody>\n",
              "</table>\n",
              "<p>5 rows × 30 columns</p>\n",
              "</div>\n",
              "      <button class=\"colab-df-convert\" onclick=\"convertToInteractive('df-93f3c981-4aee-4ef8-b238-5d1970d9e343')\"\n",
              "              title=\"Convert this dataframe to an interactive table.\"\n",
              "              style=\"display:none;\">\n",
              "        \n",
              "  <svg xmlns=\"http://www.w3.org/2000/svg\" height=\"24px\"viewBox=\"0 0 24 24\"\n",
              "       width=\"24px\">\n",
              "    <path d=\"M0 0h24v24H0V0z\" fill=\"none\"/>\n",
              "    <path d=\"M18.56 5.44l.94 2.06.94-2.06 2.06-.94-2.06-.94-.94-2.06-.94 2.06-2.06.94zm-11 1L8.5 8.5l.94-2.06 2.06-.94-2.06-.94L8.5 2.5l-.94 2.06-2.06.94zm10 10l.94 2.06.94-2.06 2.06-.94-2.06-.94-.94-2.06-.94 2.06-2.06.94z\"/><path d=\"M17.41 7.96l-1.37-1.37c-.4-.4-.92-.59-1.43-.59-.52 0-1.04.2-1.43.59L10.3 9.45l-7.72 7.72c-.78.78-.78 2.05 0 2.83L4 21.41c.39.39.9.59 1.41.59.51 0 1.02-.2 1.41-.59l7.78-7.78 2.81-2.81c.8-.78.8-2.07 0-2.86zM5.41 20L4 18.59l7.72-7.72 1.47 1.35L5.41 20z\"/>\n",
              "  </svg>\n",
              "      </button>\n",
              "      \n",
              "  <style>\n",
              "    .colab-df-container {\n",
              "      display:flex;\n",
              "      flex-wrap:wrap;\n",
              "      gap: 12px;\n",
              "    }\n",
              "\n",
              "    .colab-df-convert {\n",
              "      background-color: #E8F0FE;\n",
              "      border: none;\n",
              "      border-radius: 50%;\n",
              "      cursor: pointer;\n",
              "      display: none;\n",
              "      fill: #1967D2;\n",
              "      height: 32px;\n",
              "      padding: 0 0 0 0;\n",
              "      width: 32px;\n",
              "    }\n",
              "\n",
              "    .colab-df-convert:hover {\n",
              "      background-color: #E2EBFA;\n",
              "      box-shadow: 0px 1px 2px rgba(60, 64, 67, 0.3), 0px 1px 3px 1px rgba(60, 64, 67, 0.15);\n",
              "      fill: #174EA6;\n",
              "    }\n",
              "\n",
              "    [theme=dark] .colab-df-convert {\n",
              "      background-color: #3B4455;\n",
              "      fill: #D2E3FC;\n",
              "    }\n",
              "\n",
              "    [theme=dark] .colab-df-convert:hover {\n",
              "      background-color: #434B5C;\n",
              "      box-shadow: 0px 1px 3px 1px rgba(0, 0, 0, 0.15);\n",
              "      filter: drop-shadow(0px 1px 2px rgba(0, 0, 0, 0.3));\n",
              "      fill: #FFFFFF;\n",
              "    }\n",
              "  </style>\n",
              "\n",
              "      <script>\n",
              "        const buttonEl =\n",
              "          document.querySelector('#df-93f3c981-4aee-4ef8-b238-5d1970d9e343 button.colab-df-convert');\n",
              "        buttonEl.style.display =\n",
              "          google.colab.kernel.accessAllowed ? 'block' : 'none';\n",
              "\n",
              "        async function convertToInteractive(key) {\n",
              "          const element = document.querySelector('#df-93f3c981-4aee-4ef8-b238-5d1970d9e343');\n",
              "          const dataTable =\n",
              "            await google.colab.kernel.invokeFunction('convertToInteractive',\n",
              "                                                     [key], {});\n",
              "          if (!dataTable) return;\n",
              "\n",
              "          const docLinkHtml = 'Like what you see? Visit the ' +\n",
              "            '<a target=\"_blank\" href=https://colab.research.google.com/notebooks/data_table.ipynb>data table notebook</a>'\n",
              "            + ' to learn more about interactive tables.';\n",
              "          element.innerHTML = '';\n",
              "          dataTable['output_type'] = 'display_data';\n",
              "          await google.colab.output.renderOutput(dataTable, element);\n",
              "          const docLink = document.createElement('div');\n",
              "          docLink.innerHTML = docLinkHtml;\n",
              "          element.appendChild(docLink);\n",
              "        }\n",
              "      </script>\n",
              "    </div>\n",
              "  </div>\n",
              "  "
            ]
          },
          "metadata": {},
          "execution_count": 10
        }
      ]
    },
    {
      "cell_type": "code",
      "source": [
        "# Verificar as colunas/atributos do GeoDataFrame\n",
        "gdf_delegacias.columns"
      ],
      "metadata": {
        "colab": {
          "base_uri": "https://localhost:8080/"
        },
        "id": "VTqWDGZsRtJf",
        "outputId": "f0785c3d-b2cb-491e-fab5-7c375f7c54a7"
      },
      "execution_count": 21,
      "outputs": [
        {
          "output_type": "execute_result",
          "data": {
            "text/plain": [
              "Index(['cisp', 'aisp', 'delegacia', 'localidade', 'categoria', 'endereco',\n",
              "       'responsave', 'contato', 'pip_dk_nov', 'pip_dscr_n', 'pip_dk_n_1',\n",
              "       'pip_dscr_1', 'pip_dk_n_2', 'pip_dscr_2', 'cod_craai', 'craai',\n",
              "       'cod_mun', 'municipio', 'regiao_ibg', 'mesoregiao', 'regiao_erj',\n",
              "       'latitude', 'longitude', 'dt_atualiz', 'globalid', 'created_us',\n",
              "       'created_da', 'last_edite', 'last_edi_1', 'geometry'],\n",
              "      dtype='object')"
            ]
          },
          "metadata": {},
          "execution_count": 21
        }
      ]
    },
    {
      "cell_type": "code",
      "source": [
        "# Verificar os registros/valores únicos de um atributo/coluna do GeoDataFrame\n",
        "pd.unique(gdf_delegacias['regiao_erj'])"
      ],
      "metadata": {
        "colab": {
          "base_uri": "https://localhost:8080/"
        },
        "id": "yujCtBW-Gyun",
        "outputId": "48b00966-304b-49e7-9b93-9822a3a29d39"
      },
      "execution_count": 11,
      "outputs": [
        {
          "output_type": "execute_result",
          "data": {
            "text/plain": [
              "array(['Região das Baixadas Litorâneas', 'Região Metropolitana',\n",
              "       'Região Noroeste Fluminense', 'Região Serrana',\n",
              "       'Região Centro-Sul Fluminense', 'Região da Costa Verde',\n",
              "       'Região Norte Fluminense', 'Região do Médio Paraíba'], dtype=object)"
            ]
          },
          "metadata": {},
          "execution_count": 11
        }
      ]
    },
    {
      "cell_type": "markdown",
      "source": [
        "## **3 - Preparar Mapa**\n",
        "\n",
        "*   Criar os dicionários de classificação de dados\n",
        "*   Criar uma instância de Mapa Folium *folium.Map()*;\n",
        "*   Criar *folium.FeatureGroup()* para agrupar geometrias de ponto e definir estilos;\n",
        "*   Criar um *folium.GeoJson*() para plotar a geometria de polígono das AISPs;\n",
        "*   Criar um objeto *folium.LayerControle()*;\n",
        "\n",
        "### <font color='yellow'>Importante:</font> Todos os trechos de código ligados à publicação de camadas no mapa devem estar na mesma célula\n",
        "\n"
      ],
      "metadata": {
        "id": "rvo-HISiHcPu"
      }
    },
    {
      "cell_type": "code",
      "source": [
        "cores_bpm = {'Rio de Janeiro':'black',\n",
        "'Campos dos Goytacazes':'blue',\n",
        "'Duque de Caxias':'green',\n",
        "'São João de Meriti':'yellow',\n",
        "'Cabo Frio':'orange',\n",
        "'Barra do Piraí':'darkblue',\n",
        "'Itaperuna':'darkgreen',\n",
        "'Angra dos Reis':'cadtblue',\n",
        "'Nova Friburgo':'pink',\n",
        "'São Gonçalo':'lightgray',\n",
        "'Niterói':'red',\n",
        "'Volta Redonda':'gray',\n",
        "'Magé':'brown',\n",
        "'Teresópolis':'beige',\n",
        "'Resende':'darkpurple',\n",
        "'Mesquita':'purple',\n",
        "'Belford Roxo':'lightblue',\n",
        "'Três Rios':'lightgreen',\n",
        "'Macaé':'yellow',\n",
        "'Santo Antônio de Pádua':'black',\n",
        "'Petrópolis':'white',\n",
        "'Queimados':'pink',\n",
        "'Itaboraí':'red'}"
      ],
      "metadata": {
        "id": "nuKcKP6kHVeA"
      },
      "execution_count": 12,
      "outputs": []
    },
    {
      "cell_type": "code",
      "source": [
        "cores_delegacias={\n",
        "'Região das Baixadas Litorâneas':'yellow',\n",
        "'Região Metropolitana':'darkblue',\n",
        "'Região Noroeste Fluminense':'gray',\n",
        "'Região Serrana':'red',\n",
        "'Região Centro-Sul Fluminense':'purple',\n",
        "'Região da Costa Verde':'darkgreen',\n",
        "'Região Norte Fluminense':'blach',\n",
        "'Região do Médio Paraíba':'orange'\n",
        "}"
      ],
      "metadata": {
        "id": "CA1h0zMxKHvb"
      },
      "execution_count": 13,
      "outputs": []
    },
    {
      "cell_type": "code",
      "source": [
        "# Dicionário para Estilizar a camada AISP\n",
        "bordersStyle = {\n",
        "    'color': 'black',\n",
        "    'weight': 2,\n",
        "    'fillColor': 'gray',\n",
        "    'fillOpacity': 0.2}"
      ],
      "metadata": {
        "id": "aob1OoNcSBj2"
      },
      "execution_count": 22,
      "outputs": []
    },
    {
      "cell_type": "code",
      "source": [
        "# Criar um mapa da folium. \n",
        "# Definir localização inicial do mapa (location), nível de zoom (zoom), escala de visibilidade (control_scale)\n",
        "RMRJ_Map = folium.Map(location=[-21.776276, -43.352406], tiles = 'OpenStreetMap', zoom_start=8, control_scale=True, width='90%', height='90%')\n",
        "\n",
        "# Criar um \"folium.FeatureGroup\" com um laço de repetição do tipo \"for\" para plotar o GeoDataFrame 'delegaciais_erj'\n",
        "delegacias_group = folium.FeatureGroup('DPs')\n",
        "for index, DPs in gdf_delegacias.iterrows():\n",
        "  label_dp = DPs['delegacia']\n",
        "  tooltip_dp = DPs['delegacia']\n",
        "  folium.Marker(\n",
        "      [DPs.geometry.y, DPs.geometry.x],\n",
        "      icon = folium.Icon(color=cores_delegacias[DPs['regiao_erj']],\n",
        "                         icon='user',\n",
        "                         prefix='fa'),\n",
        "      popup = folium.Popup(html= label_dp + \"\"\"<img src=\"https://upload.wikimedia.org/wikipedia/commons/4/41/Bras%C3%A3oPCERJ.jpg\" alt=\"Trulli\" style=\"max-width:100%;max-height:100%\">\"\"\", max_width=450),\n",
        "      tooltip = tooltip_dp\n",
        "      ).add_to(RMRJ_Map)\n",
        "delegacias_group.add_to(RMRJ_Map)\n",
        "\n",
        "# Criar um \"folium.FeatureGroup\" \"bpm_group\" com um laço de repetição do tipo \"for\" para plotar o GeoDataFrame 'bpm_erj'\n",
        "bpm_group = folium.FeatureGroup('BPMs')\n",
        "\n",
        "for index, BPMs in gdf_bpm.iterrows():\n",
        "\n",
        "  label_bpm = BPMs['unidade']\n",
        "  tooltip_bpm = BPMs['unidade']\n",
        "\n",
        "  folium.Marker(\n",
        "      [BPMs.geometry.y, BPMs.geometry.x],\n",
        "      icon = folium.Icon(color=cores_bpm [BPMs['municipio']], \n",
        "                         icon='building', \n",
        "                         prefix='fa'),\n",
        "      popup=folium.Popup(html = label_bpm + \"\"\"<img src=\"https://encrypted-tbn0.gstatic.com/images?q=tbn:ANd9GcQYQBr_I2xyMMQdeluAkD0W2KnlhHMzCH-n0Jy8eUFZXe6pWsVmHn2Gtzk1lCGj7LXsnwI&usqp=CAU\" alt=\"Trulli\" style=\"max-width:100%;max-height:100%\">\"\"\", max_width=450),\n",
        "      tooltip = tooltip_bpm\n",
        "      ).add_to(RMRJ_Map)\n",
        "\n",
        "bpm_group.add_to(RMRJ_Map)\n",
        "\n",
        "# Exibir os limites de AISPs do ERJ\n",
        "folium.GeoJson(\n",
        "    data=(open(aisp_json, 'r').read()),\n",
        "    tooltip=folium.GeoJsonTooltip(fields=['aisp'], aliases=['AISP']),\n",
        "    name=\"AISPs\",\n",
        "    style_function=lambda x: bordersStyle\n",
        "    ).add_to(RMRJ_Map)\n",
        "\n",
        "# Adicionar controle de camadas no mapa\n",
        "folium.LayerControl().add_to(RMRJ_Map)"
      ],
      "metadata": {
        "colab": {
          "base_uri": "https://localhost:8080/"
        },
        "id": "mN48nIM4ZURo",
        "outputId": "3bac3bc0-1b53-4640-a81a-de5a5452051a"
      },
      "execution_count": 32,
      "outputs": [
        {
          "output_type": "stream",
          "name": "stderr",
          "text": [
            "<ipython-input-32-6034f226a311>:12: UserWarning: color argument of Icon should be one of: {'lightred', 'black', 'white', 'orange', 'blue', 'gray', 'green', 'purple', 'red', 'lightgreen', 'pink', 'lightgray', 'darkgreen', 'cadetblue', 'darkred', 'darkblue', 'darkpurple', 'beige', 'lightblue'}.\n",
            "  icon = folium.Icon(color=cores_delegacias[DPs['regiao_erj']],\n",
            "<ipython-input-32-6034f226a311>:30: UserWarning: color argument of Icon should be one of: {'lightred', 'black', 'white', 'orange', 'blue', 'gray', 'green', 'purple', 'red', 'lightgreen', 'pink', 'lightgray', 'darkgreen', 'cadetblue', 'darkred', 'darkblue', 'darkpurple', 'beige', 'lightblue'}.\n",
            "  icon = folium.Icon(color=cores_bpm [BPMs['municipio']],\n"
          ]
        },
        {
          "output_type": "execute_result",
          "data": {
            "text/plain": [
              "<folium.map.LayerControl at 0x7f06f36f9f10>"
            ]
          },
          "metadata": {},
          "execution_count": 32
        }
      ]
    },
    {
      "cell_type": "code",
      "source": [
        "# Visualizar o mapa final\n",
        "RMRJ_Map"
      ],
      "metadata": {
        "id": "tZ2mqM5jaHAt"
      },
      "execution_count": null,
      "outputs": []
    },
    {
      "cell_type": "markdown",
      "source": [
        "## **4 - Salvar Mapa Final**\n",
        "\n",
        "*   Criar uma variável que armazena o caminho no qual você quer salvar o produto final; <br> <font color='yellow'>(lembrar de colocar um 'r' antes do caminho e uma barra após a última pasta)</font>\n",
        "*   Criar uma variável para armazenar o nome de salvamento do arquivo;\n",
        "*   Utilizar a função *.save()* para salvar o arquivo "
      ],
      "metadata": {
        "id": "F_6uvXkBakcN"
      }
    },
    {
      "cell_type": "code",
      "execution_count": 36,
      "metadata": {
        "id": "arhbBAQEE8Jk"
      },
      "outputs": [],
      "source": [
        "# Salvar o mapa em formato .html como arquivo local\n",
        "# Caminho/Diretório para salvar o arquivo\n",
        "#outfp=r'/content/drive/MyDrive/11_PROJETOS/FogoCruzado_RMRJ/'\n",
        "\n",
        "# Defina o caminho para salvar o mapa\n",
        "#fp = \"EquipamentosSegurancaERJ.html\"\n",
        "# Exporte o mapa\n",
        "#RMRJ_Map.save(outfp+fp)"
      ]
    }
  ],
  "metadata": {
    "colab": {
      "provenance": [],
      "mount_file_id": "1MP1R9903lOyQot1MH0lqAFwIXSJ0C45n",
      "authorship_tag": "ABX9TyPBYCyJdKePI0mCUQCHRT3S",
      "include_colab_link": true
    },
    "kernelspec": {
      "display_name": "Python 3",
      "name": "python3"
    },
    "language_info": {
      "name": "python"
    }
  },
  "nbformat": 4,
  "nbformat_minor": 0
}